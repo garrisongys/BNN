{
  "nbformat": 4,
  "nbformat_minor": 0,
  "metadata": {
    "colab": {
      "name": "BNN_larq_CIFIAR10.ipynb",
      "provenance": [],
      "collapsed_sections": [],
      "authorship_tag": "ABX9TyPW0bwplvOUFmZ8eiLVd149",
      "include_colab_link": true
    },
    "kernelspec": {
      "name": "python3",
      "display_name": "Python 3"
    },
    "accelerator": "GPU"
  },
  "cells": [
    {
      "cell_type": "markdown",
      "metadata": {
        "id": "view-in-github",
        "colab_type": "text"
      },
      "source": [
        "<a href=\"https://colab.research.google.com/github/garrisongys/BNN/blob/master/BNN_larq_CIFIAR10.ipynb\" target=\"_parent\"><img src=\"https://colab.research.google.com/assets/colab-badge.svg\" alt=\"Open In Colab\"/></a>"
      ]
    },
    {
      "cell_type": "markdown",
      "metadata": {
        "id": "AtYv1fPfEF-n",
        "colab_type": "text"
      },
      "source": [
        "Source from https://docs.larq.dev/larq/tutorials/binarynet_cifar10/"
      ]
    },
    {
      "cell_type": "code",
      "metadata": {
        "id": "mQmNAijyD_8B",
        "colab_type": "code",
        "colab": {
          "base_uri": "https://localhost:8080/",
          "height": 272
        },
        "outputId": "285c6d43-5d24-4071-9481-5ea78f5f0bb2"
      },
      "source": [
        "!pip install larq"
      ],
      "execution_count": 1,
      "outputs": [
        {
          "output_type": "stream",
          "text": [
            "Collecting larq\n",
            "\u001b[?25l  Downloading https://files.pythonhosted.org/packages/bb/c4/662b325125ec8c52289cf521924041abf0d2c4e2b53b8c628b5eb097a9fd/larq-0.9.3-py3-none-any.whl (58kB)\n",
            "\r\u001b[K     |█████▋                          | 10kB 28.0MB/s eta 0:00:01\r\u001b[K     |███████████▏                    | 20kB 1.7MB/s eta 0:00:01\r\u001b[K     |████████████████▊               | 30kB 2.5MB/s eta 0:00:01\r\u001b[K     |██████████████████████▎         | 40kB 1.7MB/s eta 0:00:01\r\u001b[K     |███████████████████████████▉    | 51kB 2.1MB/s eta 0:00:01\r\u001b[K     |████████████████████████████████| 61kB 2.0MB/s \n",
            "\u001b[?25hCollecting terminaltables>=3.1.0\n",
            "  Downloading https://files.pythonhosted.org/packages/9b/c4/4a21174f32f8a7e1104798c445dacdc1d4df86f2f26722767034e4de4bff/terminaltables-3.1.0.tar.gz\n",
            "Requirement already satisfied: numpy<2.0,>=1.15.4 in /usr/local/lib/python3.6/dist-packages (from larq) (1.18.2)\n",
            "Requirement already satisfied: dataclasses; python_version < \"3.7\" in /usr/local/lib/python3.6/dist-packages (from larq) (0.7)\n",
            "Building wheels for collected packages: terminaltables\n",
            "  Building wheel for terminaltables (setup.py) ... \u001b[?25l\u001b[?25hdone\n",
            "  Created wheel for terminaltables: filename=terminaltables-3.1.0-cp36-none-any.whl size=15356 sha256=c7ffbbd8f62b6072529327cd7e3246d7a6494a2762de0ab59c0fb0cf4e8a257d\n",
            "  Stored in directory: /root/.cache/pip/wheels/30/6b/50/6c75775b681fb36cdfac7f19799888ef9d8813aff9e379663e\n",
            "Successfully built terminaltables\n",
            "Installing collected packages: terminaltables, larq\n",
            "Successfully installed larq-0.9.3 terminaltables-3.1.0\n"
          ],
          "name": "stdout"
        }
      ]
    },
    {
      "cell_type": "code",
      "metadata": {
        "id": "vFwFas4LENsd",
        "colab_type": "code",
        "colab": {}
      },
      "source": [
        "import tensorflow as tf\n",
        "import larq as lq\n",
        "import numpy as np\n",
        "import matplotlib.pyplot as plt"
      ],
      "execution_count": 0,
      "outputs": []
    },
    {
      "cell_type": "code",
      "metadata": {
        "id": "Wx4cMNsuERPn",
        "colab_type": "code",
        "colab": {
          "base_uri": "https://localhost:8080/",
          "height": 50
        },
        "outputId": "13c5ba49-ad01-4134-d81f-00f8279aa261"
      },
      "source": [
        "num_classes = 10\n",
        "\n",
        "(train_images, train_labels), (test_images, test_labels) = tf.keras.datasets.cifar10.load_data()\n",
        "\n",
        "train_images = train_images.reshape((50000, 32, 32, 3)).astype(\"float32\")\n",
        "test_images = test_images.reshape((10000, 32, 32, 3)).astype(\"float32\")\n",
        "\n",
        "# Normalize pixel values to be between -1 and 1\n",
        "train_images, test_images = train_images / 127.5 - 1, test_images / 127.5 - 1\n",
        "\n",
        "train_labels = tf.keras.utils.to_categorical(train_labels, num_classes)\n",
        "test_labels = tf.keras.utils.to_categorical(test_labels, num_classes)"
      ],
      "execution_count": 3,
      "outputs": [
        {
          "output_type": "stream",
          "text": [
            "Downloading data from https://www.cs.toronto.edu/~kriz/cifar-10-python.tar.gz\n",
            "170500096/170498071 [==============================] - 3s 0us/step\n"
          ],
          "name": "stdout"
        }
      ]
    },
    {
      "cell_type": "code",
      "metadata": {
        "id": "IFyfFFlOEY_1",
        "colab_type": "code",
        "colab": {}
      },
      "source": [
        "# All quantized layers except the first will use the same options\n",
        "kwargs = dict(input_quantizer=\"ste_sign\",\n",
        "              kernel_quantizer=\"ste_sign\",\n",
        "              kernel_constraint=\"weight_clip\",\n",
        "              use_bias=False)\n",
        "\n",
        "model = tf.keras.models.Sequential([\n",
        "    # In the first layer we only quantize the weights and not the input\n",
        "    lq.layers.QuantConv2D(128, 3,\n",
        "                          kernel_quantizer=\"ste_sign\",\n",
        "                          kernel_constraint=\"weight_clip\",\n",
        "                          use_bias=False,\n",
        "                          input_shape=(32, 32, 3)),\n",
        "    tf.keras.layers.BatchNormalization(momentum=0.999, scale=False),\n",
        "\n",
        "    lq.layers.QuantConv2D(128, 3, padding=\"same\", **kwargs),\n",
        "    tf.keras.layers.MaxPool2D(pool_size=(2, 2), strides=(2, 2)),\n",
        "    tf.keras.layers.BatchNormalization(momentum=0.999, scale=False),\n",
        "\n",
        "    lq.layers.QuantConv2D(256, 3, padding=\"same\", **kwargs),\n",
        "    tf.keras.layers.BatchNormalization(momentum=0.999, scale=False),\n",
        "\n",
        "    lq.layers.QuantConv2D(256, 3, padding=\"same\", **kwargs),\n",
        "    tf.keras.layers.MaxPool2D(pool_size=(2, 2), strides=(2, 2)),\n",
        "    tf.keras.layers.BatchNormalization(momentum=0.999, scale=False),\n",
        "\n",
        "    lq.layers.QuantConv2D(512, 3, padding=\"same\", **kwargs),\n",
        "    tf.keras.layers.BatchNormalization(momentum=0.999, scale=False),\n",
        "\n",
        "    lq.layers.QuantConv2D(512, 3, padding=\"same\", **kwargs),\n",
        "    tf.keras.layers.MaxPool2D(pool_size=(2, 2), strides=(2, 2)),\n",
        "    tf.keras.layers.BatchNormalization(momentum=0.999, scale=False),\n",
        "    tf.keras.layers.Flatten(),\n",
        "\n",
        "    lq.layers.QuantDense(1024, **kwargs),\n",
        "    tf.keras.layers.BatchNormalization(momentum=0.999, scale=False),\n",
        "\n",
        "    lq.layers.QuantDense(1024, **kwargs),\n",
        "    tf.keras.layers.BatchNormalization(momentum=0.999, scale=False),\n",
        "\n",
        "    lq.layers.QuantDense(10, **kwargs),\n",
        "    tf.keras.layers.BatchNormalization(momentum=0.999, scale=False),\n",
        "    tf.keras.layers.Activation(\"softmax\")\n",
        "])"
      ],
      "execution_count": 0,
      "outputs": []
    },
    {
      "cell_type": "code",
      "metadata": {
        "id": "LWPseYgvEetF",
        "colab_type": "code",
        "colab": {
          "base_uri": "https://localhost:8080/",
          "height": 706
        },
        "outputId": "c72f9232-8b6b-46d9-d193-c151c0835286"
      },
      "source": [
        "lq.models.summary(model)"
      ],
      "execution_count": 5,
      "outputs": [
        {
          "output_type": "stream",
          "text": [
            "+sequential stats---------------------------------------------------------------------------------------------+\n",
            "| Layer                  Input prec.            Outputs   # 1-bit  # 32-bit   Memory  1-bit MACs  32-bit MACs |\n",
            "|                              (bit)                          x 1       x 1     (kB)                          |\n",
            "+-------------------------------------------------------------------------------------------------------------+\n",
            "| quant_conv2d                     -  (-1, 30, 30, 128)      3456         0     0.42           0      3110400 |\n",
            "| batch_normalization              -  (-1, 30, 30, 128)         0       256     1.00           0            0 |\n",
            "| quant_conv2d_1                   1  (-1, 30, 30, 128)    147456         0    18.00   132710400            0 |\n",
            "| max_pooling2d                    -  (-1, 15, 15, 128)         0         0        0           0            0 |\n",
            "| batch_normalization_1            -  (-1, 15, 15, 128)         0       256     1.00           0            0 |\n",
            "| quant_conv2d_2                   1  (-1, 15, 15, 256)    294912         0    36.00    66355200            0 |\n",
            "| batch_normalization_2            -  (-1, 15, 15, 256)         0       512     2.00           0            0 |\n",
            "| quant_conv2d_3                   1  (-1, 15, 15, 256)    589824         0    72.00   132710400            0 |\n",
            "| max_pooling2d_1                  -    (-1, 7, 7, 256)         0         0        0           0            0 |\n",
            "| batch_normalization_3            -    (-1, 7, 7, 256)         0       512     2.00           0            0 |\n",
            "| quant_conv2d_4                   1    (-1, 7, 7, 512)   1179648         0   144.00    57802752            0 |\n",
            "| batch_normalization_4            -    (-1, 7, 7, 512)         0      1024     4.00           0            0 |\n",
            "| quant_conv2d_5                   1    (-1, 7, 7, 512)   2359296         0   288.00   115605504            0 |\n",
            "| max_pooling2d_2                  -    (-1, 3, 3, 512)         0         0        0           0            0 |\n",
            "| batch_normalization_5            -    (-1, 3, 3, 512)         0      1024     4.00           0            0 |\n",
            "| flatten                          -         (-1, 4608)         0         0        0           0            0 |\n",
            "| quant_dense                      1         (-1, 1024)   4718592         0   576.00     4718592            0 |\n",
            "| batch_normalization_6            -         (-1, 1024)         0      2048     8.00           0            0 |\n",
            "| quant_dense_1                    1         (-1, 1024)   1048576         0   128.00     1048576            0 |\n",
            "| batch_normalization_7            -         (-1, 1024)         0      2048     8.00           0            0 |\n",
            "| quant_dense_2                    1           (-1, 10)     10240         0     1.25       10240            0 |\n",
            "| batch_normalization_8            -           (-1, 10)         0        20     0.08           0            0 |\n",
            "| activation                       -           (-1, 10)         0         0        0           ?            ? |\n",
            "+-------------------------------------------------------------------------------------------------------------+\n",
            "| Total                                                  10352000      7700  1293.75   510961664      3110400 |\n",
            "+-------------------------------------------------------------------------------------------------------------+\n",
            "+sequential summary---------------------------+\n",
            "| Total params                      10.4 M    |\n",
            "| Trainable params                  10.4 M    |\n",
            "| Non-trainable params              7.7 k     |\n",
            "| Model size                        1.26 MiB  |\n",
            "| Model size (8-bit FP weights)     1.24 MiB  |\n",
            "| Float-32 Equivalent               39.52 MiB |\n",
            "| Compression Ratio of Memory       0.03      |\n",
            "| Number of MACs                    514 M     |\n",
            "| Ratio of MACs that are binarized  0.9939    |\n",
            "+---------------------------------------------+\n"
          ],
          "name": "stdout"
        }
      ]
    },
    {
      "cell_type": "code",
      "metadata": {
        "id": "gzCw7T19EzuV",
        "colab_type": "code",
        "colab": {}
      },
      "source": [
        "model.compile(\n",
        "    tf.keras.optimizers.Adam(lr=0.01,decay=0.0001),\n",
        "    loss=\"categorical_crossentropy\",\n",
        "    metrics=[\"accuracy\"],\n",
        ")"
      ],
      "execution_count": 0,
      "outputs": []
    },
    {
      "cell_type": "code",
      "metadata": {
        "id": "aiJBj6oiE6Wu",
        "colab_type": "code",
        "colab": {
          "base_uri": "https://localhost:8080/",
          "height": 1000
        },
        "outputId": "a52c4dfd-0a22-4977-b13e-7103ad1afacc"
      },
      "source": [
        "trained_model = model.fit(\n",
        "    train_images, \n",
        "    train_labels,\n",
        "    batch_size=50, \n",
        "    epochs=100,\n",
        "    validation_data=(test_images, test_labels),\n",
        "    shuffle=True\n",
        ")"
      ],
      "execution_count": 11,
      "outputs": [
        {
          "output_type": "stream",
          "text": [
            "Epoch 1/100\n",
            "1000/1000 [==============================] - 22s 22ms/step - loss: 0.3710 - accuracy: 0.9951 - val_loss: 0.8050 - val_accuracy: 0.8274\n",
            "Epoch 2/100\n",
            "1000/1000 [==============================] - 22s 22ms/step - loss: 0.3708 - accuracy: 0.9947 - val_loss: 0.8344 - val_accuracy: 0.8217\n",
            "Epoch 3/100\n",
            "1000/1000 [==============================] - 22s 22ms/step - loss: 0.3722 - accuracy: 0.9949 - val_loss: 0.8107 - val_accuracy: 0.8281\n",
            "Epoch 4/100\n",
            "1000/1000 [==============================] - 22s 22ms/step - loss: 0.3689 - accuracy: 0.9955 - val_loss: 0.8329 - val_accuracy: 0.8214\n",
            "Epoch 5/100\n",
            "1000/1000 [==============================] - 22s 22ms/step - loss: 0.3677 - accuracy: 0.9955 - val_loss: 0.8341 - val_accuracy: 0.8201\n",
            "Epoch 6/100\n",
            "1000/1000 [==============================] - 22s 22ms/step - loss: 0.3679 - accuracy: 0.9953 - val_loss: 0.8492 - val_accuracy: 0.8234\n",
            "Epoch 7/100\n",
            "1000/1000 [==============================] - 22s 22ms/step - loss: 0.3648 - accuracy: 0.9964 - val_loss: 0.8193 - val_accuracy: 0.8172\n",
            "Epoch 8/100\n",
            "1000/1000 [==============================] - 22s 22ms/step - loss: 0.3680 - accuracy: 0.9950 - val_loss: 0.8339 - val_accuracy: 0.8208\n",
            "Epoch 9/100\n",
            "1000/1000 [==============================] - 22s 22ms/step - loss: 0.3703 - accuracy: 0.9952 - val_loss: 0.9019 - val_accuracy: 0.8008\n",
            "Epoch 10/100\n",
            "1000/1000 [==============================] - 22s 22ms/step - loss: 0.3644 - accuracy: 0.9961 - val_loss: 0.8046 - val_accuracy: 0.8273\n",
            "Epoch 11/100\n",
            "1000/1000 [==============================] - 22s 22ms/step - loss: 0.3668 - accuracy: 0.9954 - val_loss: 0.8325 - val_accuracy: 0.8181\n",
            "Epoch 12/100\n",
            "1000/1000 [==============================] - 23s 23ms/step - loss: 0.3658 - accuracy: 0.9954 - val_loss: 0.8313 - val_accuracy: 0.8173\n",
            "Epoch 13/100\n",
            "1000/1000 [==============================] - 22s 22ms/step - loss: 0.3678 - accuracy: 0.9955 - val_loss: 0.8101 - val_accuracy: 0.8232\n",
            "Epoch 14/100\n",
            "1000/1000 [==============================] - 22s 22ms/step - loss: 0.3666 - accuracy: 0.9957 - val_loss: 0.8276 - val_accuracy: 0.8225\n",
            "Epoch 15/100\n",
            "1000/1000 [==============================] - 22s 22ms/step - loss: 0.3664 - accuracy: 0.9961 - val_loss: 0.8680 - val_accuracy: 0.8156\n",
            "Epoch 16/100\n",
            "1000/1000 [==============================] - 22s 22ms/step - loss: 0.3645 - accuracy: 0.9961 - val_loss: 0.8188 - val_accuracy: 0.8280\n",
            "Epoch 17/100\n",
            "1000/1000 [==============================] - 22s 22ms/step - loss: 0.3676 - accuracy: 0.9962 - val_loss: 0.8070 - val_accuracy: 0.8339\n",
            "Epoch 18/100\n",
            "1000/1000 [==============================] - 22s 22ms/step - loss: 0.3656 - accuracy: 0.9961 - val_loss: 0.8655 - val_accuracy: 0.8067\n",
            "Epoch 19/100\n",
            "1000/1000 [==============================] - 22s 22ms/step - loss: 0.3665 - accuracy: 0.9955 - val_loss: 0.8609 - val_accuracy: 0.8118\n",
            "Epoch 20/100\n",
            "1000/1000 [==============================] - 22s 22ms/step - loss: 0.3670 - accuracy: 0.9953 - val_loss: 0.7939 - val_accuracy: 0.8300\n",
            "Epoch 21/100\n",
            "1000/1000 [==============================] - 22s 22ms/step - loss: 0.3643 - accuracy: 0.9958 - val_loss: 0.8143 - val_accuracy: 0.8301\n",
            "Epoch 22/100\n",
            "1000/1000 [==============================] - 22s 22ms/step - loss: 0.3656 - accuracy: 0.9961 - val_loss: 0.8165 - val_accuracy: 0.8207\n",
            "Epoch 23/100\n",
            "1000/1000 [==============================] - 22s 22ms/step - loss: 0.3647 - accuracy: 0.9961 - val_loss: 0.8339 - val_accuracy: 0.8221\n",
            "Epoch 24/100\n",
            "1000/1000 [==============================] - 22s 22ms/step - loss: 0.3643 - accuracy: 0.9963 - val_loss: 0.8033 - val_accuracy: 0.8265\n",
            "Epoch 25/100\n",
            "1000/1000 [==============================] - 22s 22ms/step - loss: 0.3685 - accuracy: 0.9962 - val_loss: 0.8235 - val_accuracy: 0.8312\n",
            "Epoch 26/100\n",
            "1000/1000 [==============================] - 22s 22ms/step - loss: 0.3663 - accuracy: 0.9957 - val_loss: 0.8139 - val_accuracy: 0.8257\n",
            "Epoch 27/100\n",
            "1000/1000 [==============================] - 22s 22ms/step - loss: 0.3645 - accuracy: 0.9960 - val_loss: 0.8075 - val_accuracy: 0.8295\n",
            "Epoch 28/100\n",
            "1000/1000 [==============================] - 22s 22ms/step - loss: 0.3650 - accuracy: 0.9959 - val_loss: 0.8515 - val_accuracy: 0.8172\n",
            "Epoch 29/100\n",
            "1000/1000 [==============================] - 22s 22ms/step - loss: 0.3629 - accuracy: 0.9964 - val_loss: 0.8207 - val_accuracy: 0.8238\n",
            "Epoch 30/100\n",
            "1000/1000 [==============================] - 22s 22ms/step - loss: 0.3663 - accuracy: 0.9955 - val_loss: 0.8042 - val_accuracy: 0.8263\n",
            "Epoch 31/100\n",
            "1000/1000 [==============================] - 22s 22ms/step - loss: 0.3638 - accuracy: 0.9963 - val_loss: 0.8508 - val_accuracy: 0.8227\n",
            "Epoch 32/100\n",
            "1000/1000 [==============================] - 22s 22ms/step - loss: 0.3654 - accuracy: 0.9963 - val_loss: 0.8098 - val_accuracy: 0.8341\n",
            "Epoch 33/100\n",
            "1000/1000 [==============================] - 22s 22ms/step - loss: 0.3660 - accuracy: 0.9960 - val_loss: 0.7888 - val_accuracy: 0.8346\n",
            "Epoch 34/100\n",
            "1000/1000 [==============================] - 22s 22ms/step - loss: 0.3647 - accuracy: 0.9963 - val_loss: 0.8221 - val_accuracy: 0.8204\n",
            "Epoch 35/100\n",
            "1000/1000 [==============================] - 22s 22ms/step - loss: 0.3631 - accuracy: 0.9965 - val_loss: 0.8060 - val_accuracy: 0.8306\n",
            "Epoch 36/100\n",
            "1000/1000 [==============================] - 22s 22ms/step - loss: 0.3645 - accuracy: 0.9962 - val_loss: 0.8050 - val_accuracy: 0.8288\n",
            "Epoch 37/100\n",
            "1000/1000 [==============================] - 22s 22ms/step - loss: 0.3649 - accuracy: 0.9961 - val_loss: 0.8158 - val_accuracy: 0.8301\n",
            "Epoch 38/100\n",
            "1000/1000 [==============================] - 22s 22ms/step - loss: 0.3639 - accuracy: 0.9964 - val_loss: 0.8173 - val_accuracy: 0.8266\n",
            "Epoch 39/100\n",
            "1000/1000 [==============================] - 22s 22ms/step - loss: 0.3615 - accuracy: 0.9966 - val_loss: 0.7749 - val_accuracy: 0.8360\n",
            "Epoch 40/100\n",
            "1000/1000 [==============================] - 22s 22ms/step - loss: 0.3640 - accuracy: 0.9961 - val_loss: 0.8306 - val_accuracy: 0.8262\n",
            "Epoch 41/100\n",
            "1000/1000 [==============================] - 22s 22ms/step - loss: 0.3659 - accuracy: 0.9960 - val_loss: 0.8549 - val_accuracy: 0.8120\n",
            "Epoch 42/100\n",
            "1000/1000 [==============================] - 22s 22ms/step - loss: 0.3649 - accuracy: 0.9969 - val_loss: 0.7836 - val_accuracy: 0.8318\n",
            "Epoch 43/100\n",
            "1000/1000 [==============================] - 22s 22ms/step - loss: 0.3677 - accuracy: 0.9954 - val_loss: 0.8056 - val_accuracy: 0.8304\n",
            "Epoch 44/100\n",
            "1000/1000 [==============================] - 22s 22ms/step - loss: 0.3645 - accuracy: 0.9963 - val_loss: 0.8134 - val_accuracy: 0.8268\n",
            "Epoch 45/100\n",
            "1000/1000 [==============================] - 22s 22ms/step - loss: 0.3623 - accuracy: 0.9969 - val_loss: 0.7734 - val_accuracy: 0.8366\n",
            "Epoch 46/100\n",
            "1000/1000 [==============================] - 22s 22ms/step - loss: 0.3636 - accuracy: 0.9964 - val_loss: 0.7926 - val_accuracy: 0.8288\n",
            "Epoch 47/100\n",
            "1000/1000 [==============================] - 22s 22ms/step - loss: 0.3626 - accuracy: 0.9966 - val_loss: 0.7935 - val_accuracy: 0.8326\n",
            "Epoch 48/100\n",
            "1000/1000 [==============================] - 22s 22ms/step - loss: 0.3635 - accuracy: 0.9964 - val_loss: 0.8694 - val_accuracy: 0.8156\n",
            "Epoch 49/100\n",
            "1000/1000 [==============================] - 22s 22ms/step - loss: 0.3621 - accuracy: 0.9970 - val_loss: 0.7784 - val_accuracy: 0.8375\n",
            "Epoch 50/100\n",
            "1000/1000 [==============================] - 22s 22ms/step - loss: 0.3634 - accuracy: 0.9969 - val_loss: 0.7904 - val_accuracy: 0.8299\n",
            "Epoch 51/100\n",
            "1000/1000 [==============================] - 22s 22ms/step - loss: 0.3633 - accuracy: 0.9963 - val_loss: 0.7959 - val_accuracy: 0.8295\n",
            "Epoch 52/100\n",
            "1000/1000 [==============================] - 22s 22ms/step - loss: 0.3644 - accuracy: 0.9966 - val_loss: 0.8413 - val_accuracy: 0.8151\n",
            "Epoch 53/100\n",
            "1000/1000 [==============================] - 23s 23ms/step - loss: 0.3648 - accuracy: 0.9961 - val_loss: 0.8378 - val_accuracy: 0.8211\n",
            "Epoch 54/100\n",
            "1000/1000 [==============================] - 23s 23ms/step - loss: 0.3620 - accuracy: 0.9968 - val_loss: 0.8009 - val_accuracy: 0.8322\n",
            "Epoch 55/100\n",
            "1000/1000 [==============================] - 22s 22ms/step - loss: 0.3635 - accuracy: 0.9971 - val_loss: 0.8407 - val_accuracy: 0.8236\n",
            "Epoch 56/100\n",
            "1000/1000 [==============================] - 22s 22ms/step - loss: 0.3619 - accuracy: 0.9970 - val_loss: 0.8427 - val_accuracy: 0.8224\n",
            "Epoch 57/100\n",
            "1000/1000 [==============================] - 22s 22ms/step - loss: 0.3612 - accuracy: 0.9971 - val_loss: 0.8503 - val_accuracy: 0.8268\n",
            "Epoch 58/100\n",
            "1000/1000 [==============================] - 22s 22ms/step - loss: 0.3613 - accuracy: 0.9972 - val_loss: 0.8485 - val_accuracy: 0.8222\n",
            "Epoch 59/100\n",
            "1000/1000 [==============================] - 22s 22ms/step - loss: 0.3613 - accuracy: 0.9970 - val_loss: 0.8547 - val_accuracy: 0.8222\n",
            "Epoch 60/100\n",
            "1000/1000 [==============================] - 22s 22ms/step - loss: 0.3625 - accuracy: 0.9969 - val_loss: 0.8111 - val_accuracy: 0.8272\n",
            "Epoch 61/100\n",
            "1000/1000 [==============================] - 22s 22ms/step - loss: 0.3587 - accuracy: 0.9973 - val_loss: 0.8053 - val_accuracy: 0.8284\n",
            "Epoch 62/100\n",
            "1000/1000 [==============================] - 22s 22ms/step - loss: 0.3612 - accuracy: 0.9973 - val_loss: 0.7895 - val_accuracy: 0.8352\n",
            "Epoch 63/100\n",
            "1000/1000 [==============================] - 22s 22ms/step - loss: 0.3621 - accuracy: 0.9972 - val_loss: 0.7835 - val_accuracy: 0.8352\n",
            "Epoch 64/100\n",
            "1000/1000 [==============================] - 22s 22ms/step - loss: 0.3621 - accuracy: 0.9965 - val_loss: 0.8010 - val_accuracy: 0.8329\n",
            "Epoch 65/100\n",
            "1000/1000 [==============================] - 22s 22ms/step - loss: 0.3627 - accuracy: 0.9963 - val_loss: 0.8602 - val_accuracy: 0.8213\n",
            "Epoch 66/100\n",
            "1000/1000 [==============================] - 22s 22ms/step - loss: 0.3602 - accuracy: 0.9969 - val_loss: 0.8049 - val_accuracy: 0.8325\n",
            "Epoch 67/100\n",
            "1000/1000 [==============================] - 22s 22ms/step - loss: 0.3604 - accuracy: 0.9967 - val_loss: 0.7988 - val_accuracy: 0.8267\n",
            "Epoch 68/100\n",
            "1000/1000 [==============================] - 22s 22ms/step - loss: 0.3606 - accuracy: 0.9972 - val_loss: 0.9130 - val_accuracy: 0.7941\n",
            "Epoch 69/100\n",
            "1000/1000 [==============================] - 22s 22ms/step - loss: 0.3614 - accuracy: 0.9973 - val_loss: 0.7836 - val_accuracy: 0.8423\n",
            "Epoch 70/100\n",
            "1000/1000 [==============================] - 22s 22ms/step - loss: 0.3616 - accuracy: 0.9970 - val_loss: 0.8703 - val_accuracy: 0.8122\n",
            "Epoch 71/100\n",
            "1000/1000 [==============================] - 22s 22ms/step - loss: 0.3630 - accuracy: 0.9968 - val_loss: 0.8745 - val_accuracy: 0.8146\n",
            "Epoch 72/100\n",
            "1000/1000 [==============================] - 22s 22ms/step - loss: 0.3620 - accuracy: 0.9970 - val_loss: 0.7892 - val_accuracy: 0.8307\n",
            "Epoch 73/100\n",
            "1000/1000 [==============================] - 23s 23ms/step - loss: 0.3603 - accuracy: 0.9973 - val_loss: 0.8182 - val_accuracy: 0.8245\n",
            "Epoch 74/100\n",
            "1000/1000 [==============================] - 22s 22ms/step - loss: 0.3604 - accuracy: 0.9973 - val_loss: 0.7934 - val_accuracy: 0.8292\n",
            "Epoch 75/100\n",
            "1000/1000 [==============================] - 22s 22ms/step - loss: 0.3623 - accuracy: 0.9965 - val_loss: 0.8189 - val_accuracy: 0.8259\n",
            "Epoch 76/100\n",
            "1000/1000 [==============================] - 22s 22ms/step - loss: 0.3619 - accuracy: 0.9967 - val_loss: 0.8118 - val_accuracy: 0.8252\n",
            "Epoch 77/100\n",
            "1000/1000 [==============================] - 23s 23ms/step - loss: 0.3612 - accuracy: 0.9973 - val_loss: 0.8474 - val_accuracy: 0.8159\n",
            "Epoch 78/100\n",
            "1000/1000 [==============================] - 23s 23ms/step - loss: 0.3624 - accuracy: 0.9969 - val_loss: 0.7932 - val_accuracy: 0.8307\n",
            "Epoch 79/100\n",
            "1000/1000 [==============================] - 23s 23ms/step - loss: 0.3611 - accuracy: 0.9966 - val_loss: 0.8112 - val_accuracy: 0.8284\n",
            "Epoch 80/100\n",
            "1000/1000 [==============================] - 22s 22ms/step - loss: 0.3596 - accuracy: 0.9972 - val_loss: 0.8378 - val_accuracy: 0.8185\n",
            "Epoch 81/100\n",
            "1000/1000 [==============================] - 23s 23ms/step - loss: 0.3596 - accuracy: 0.9973 - val_loss: 0.8671 - val_accuracy: 0.8115\n",
            "Epoch 82/100\n",
            "1000/1000 [==============================] - 24s 24ms/step - loss: 0.3590 - accuracy: 0.9971 - val_loss: 0.8450 - val_accuracy: 0.8134\n",
            "Epoch 83/100\n",
            "1000/1000 [==============================] - 23s 23ms/step - loss: 0.3604 - accuracy: 0.9972 - val_loss: 0.8101 - val_accuracy: 0.8330\n",
            "Epoch 84/100\n",
            "1000/1000 [==============================] - 23s 23ms/step - loss: 0.3567 - accuracy: 0.9978 - val_loss: 0.7836 - val_accuracy: 0.8318\n",
            "Epoch 85/100\n",
            "1000/1000 [==============================] - 23s 23ms/step - loss: 0.3606 - accuracy: 0.9971 - val_loss: 0.7802 - val_accuracy: 0.8339\n",
            "Epoch 86/100\n",
            "1000/1000 [==============================] - 23s 23ms/step - loss: 0.3585 - accuracy: 0.9978 - val_loss: 0.8803 - val_accuracy: 0.8137\n",
            "Epoch 87/100\n",
            "1000/1000 [==============================] - 24s 24ms/step - loss: 0.3604 - accuracy: 0.9972 - val_loss: 0.7877 - val_accuracy: 0.8340\n",
            "Epoch 88/100\n",
            "1000/1000 [==============================] - 22s 22ms/step - loss: 0.3594 - accuracy: 0.9968 - val_loss: 0.7982 - val_accuracy: 0.8272\n",
            "Epoch 89/100\n",
            "1000/1000 [==============================] - 22s 22ms/step - loss: 0.3616 - accuracy: 0.9969 - val_loss: 0.7878 - val_accuracy: 0.8307\n",
            "Epoch 90/100\n",
            "1000/1000 [==============================] - 23s 23ms/step - loss: 0.3583 - accuracy: 0.9973 - val_loss: 0.7576 - val_accuracy: 0.8382\n",
            "Epoch 91/100\n",
            "1000/1000 [==============================] - 22s 22ms/step - loss: 0.3616 - accuracy: 0.9969 - val_loss: 0.8093 - val_accuracy: 0.8279\n",
            "Epoch 92/100\n",
            "1000/1000 [==============================] - 23s 23ms/step - loss: 0.3612 - accuracy: 0.9973 - val_loss: 0.9223 - val_accuracy: 0.8021\n",
            "Epoch 93/100\n",
            "1000/1000 [==============================] - 23s 23ms/step - loss: 0.3572 - accuracy: 0.9977 - val_loss: 0.8089 - val_accuracy: 0.8246\n",
            "Epoch 94/100\n",
            "1000/1000 [==============================] - 23s 23ms/step - loss: 0.3616 - accuracy: 0.9972 - val_loss: 0.8628 - val_accuracy: 0.8166\n",
            "Epoch 95/100\n",
            "1000/1000 [==============================] - 23s 23ms/step - loss: 0.3615 - accuracy: 0.9972 - val_loss: 0.7912 - val_accuracy: 0.8380\n",
            "Epoch 96/100\n",
            "1000/1000 [==============================] - 23s 23ms/step - loss: 0.3585 - accuracy: 0.9975 - val_loss: 0.8262 - val_accuracy: 0.8335\n",
            "Epoch 97/100\n",
            "1000/1000 [==============================] - 23s 23ms/step - loss: 0.3602 - accuracy: 0.9973 - val_loss: 0.7919 - val_accuracy: 0.8341\n",
            "Epoch 98/100\n",
            "1000/1000 [==============================] - 23s 23ms/step - loss: 0.3579 - accuracy: 0.9979 - val_loss: 0.8257 - val_accuracy: 0.8273\n",
            "Epoch 99/100\n",
            "1000/1000 [==============================] - 23s 23ms/step - loss: 0.3590 - accuracy: 0.9974 - val_loss: 0.8560 - val_accuracy: 0.8197\n",
            "Epoch 100/100\n",
            "1000/1000 [==============================] - 23s 23ms/step - loss: 0.3572 - accuracy: 0.9978 - val_loss: 0.8766 - val_accuracy: 0.8153\n"
          ],
          "name": "stdout"
        }
      ]
    },
    {
      "cell_type": "code",
      "metadata": {
        "id": "Pv59NZSkE-2m",
        "colab_type": "code",
        "colab": {
          "base_uri": "https://localhost:8080/",
          "height": 329
        },
        "outputId": "d45ab214-8b98-48b2-82b9-594dc7ac6774"
      },
      "source": [
        "plt.plot(trained_model.history['accuracy'])\n",
        "plt.plot(trained_model.history['val_accuracy'])\n",
        "plt.title('model accuracy')\n",
        "plt.ylabel('accuracy')\n",
        "plt.xlabel('epoch')\n",
        "plt.legend(['train', 'test'], loc='upper left')\n",
        "\n",
        "print(np.max(trained_model.history['accuracy']))\n",
        "print(np.max(trained_model.history['val_accuracy']))"
      ],
      "execution_count": 16,
      "outputs": [
        {
          "output_type": "stream",
          "text": [
            "0.9978799819946289\n",
            "0.8422999978065491\n"
          ],
          "name": "stdout"
        },
        {
          "output_type": "display_data",
          "data": {
            "image/png": "[encoded data removed]",
            "text/plain": [
              "<Figure size 432x288 with 1 Axes>"
            ]
          },
          "metadata": {
            "tags": [],
            "needs_background": "light"
          }
        }
      ]
    },
    {
      "cell_type": "markdown",
      "metadata": {
        "id": "3Dn1PI8GPiRU",
        "colab_type": "text"
      },
      "source": [
        "# New Section"
      ]
    },
    {
      "cell_type": "code",
      "metadata": {
        "id": "oajuFx9DE_6B",
        "colab_type": "code",
        "colab": {
          "base_uri": "https://localhost:8080/",
          "height": 329
        },
        "outputId": "82a66b18-8c9d-4780-fedb-24f16ad4f1ea"
      },
      "source": [
        "plt.plot(trained_model.history['loss'])\n",
        "plt.plot(trained_model.history['val_loss'])\n",
        "plt.title('model loss')\n",
        "plt.ylabel('loss')\n",
        "plt.xlabel('epoch')\n",
        "plt.legend(['train', 'test'], loc='upper left')\n",
        "\n",
        "print(np.min(trained_model.history['loss']))\n",
        "print(np.min(trained_model.history['val_loss']))"
      ],
      "execution_count": 15,
      "outputs": [
        {
          "output_type": "stream",
          "text": [
            "0.3566998541355133\n",
            "0.757627546787262\n"
          ],
          "name": "stdout"
        },
        {
          "output_type": "display_data",
          "data": {
            "image/png": "[encoded data removed]",
            "text/plain": [
              "<Figure size 432x288 with 1 Axes>"
            ]
          },
          "metadata": {
            "tags": [],
            "needs_background": "light"
          }
        }
      ]
    }
  ]
}